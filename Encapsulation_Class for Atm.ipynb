{
 "cells": [
  {
   "cell_type": "code",
   "execution_count": 36,
   "id": "ae72ba84-52ee-4c20-acc3-4ef0c82a8e76",
   "metadata": {},
   "outputs": [],
   "source": [
    "class Atm:\n",
    "    # constructor(special function)->superpower\n",
    "    def __init__(self):\n",
    "        self.pin = ''\n",
    "        self.balance = 0\n",
    "        self.menu()\n",
    "        \n",
    "        \n",
    "    def menu(self):\n",
    "        user_input = input(\"\"\"\n",
    "        Hi, how can I help you?\n",
    "        1. Press 1 to create pin \n",
    "        2. Press 2 to change pin\n",
    "        3. Press 3 to check balance\n",
    "        4. Press 4 to withdraw\n",
    "        5. Press anything else to exit\n",
    "        \"\"\")\n",
    "\n",
    "        if user_input == '1':\n",
    "            # create pin\n",
    "            self.create_pin()\n",
    "        elif user_input == '2':\n",
    "            # change pin\n",
    "            self.change_pin()\n",
    "        elif user_input == '3':\n",
    "            # check balance\n",
    "            self.check_balance()\n",
    "        elif user_input == '4':\n",
    "            # withdraw\n",
    "            self.withdraw()\n",
    "        else:\n",
    "            exit()\n",
    "            \n",
    "    def create_pin(self):\n",
    "        user_pin = input('enter your pin')\n",
    "        self.pin = user_pin\n",
    "        \n",
    "        user_balance = int(input('enter your balance'))\n",
    "        self.balance = user_balance\n",
    "        \n",
    "        print('pin create successfully')\n",
    "        self.menu()\n",
    "        \n",
    "    def change_pin(self):\n",
    "        old_pin = (input('enter the old pin'))\n",
    "        \n",
    "        if old_pin == self.pin:\n",
    "            #let him change the pin\n",
    "            new_pin = (input('enter new pin'))\n",
    "            self.pin = new_pin\n",
    "            print('pin change successful')\n",
    "            self.menu()\n",
    "        else:\n",
    "            print('nai krne de skte re  payega')\n",
    "            self.menu()\n",
    "            \n",
    "    def check_balance(self):\n",
    "        user_pin = input('enter your pin')\n",
    "        if user_pin ==self.pin:\n",
    "            print('your balance is',self.balance)\n",
    "        else:\n",
    "            print('chal nikal')\n",
    "        self.menu()\n",
    "            \n",
    "    def withdraw(self):\n",
    "        user_pin = input('enter the pin')\n",
    "        if user_pin == self.pin:\n",
    "            # allow to withdraw\n",
    "            amount = int(input('enter the amount'))\n",
    "            if amount <= self.balance:\n",
    "                self.balance = self.balance - amount\n",
    "                print('withdrawl successful balance is',self.balance)\n",
    "            else:\n",
    "                print('abe garib')\n",
    "        else:\n",
    "            print(\"sale chor\")\n",
    "        self.menu()    "
   ]
  },
  {
   "cell_type": "code",
   "execution_count": null,
   "id": "80da8f8a-7934-419d-905c-bbc21eab1445",
   "metadata": {},
   "outputs": [
    {
     "name": "stdin",
     "output_type": "stream",
     "text": [
      "\n",
      "        Hi, how can I help you?\n",
      "        1. Press 1 to create pin \n",
      "        2. Press 2 to change pin\n",
      "        3. Press 3 to check balance\n",
      "        4. Press 4 to withdraw\n",
      "        5. Press anything else to exit\n",
      "         1\n",
      "enter your pin 1234\n",
      "enter your balance 12000\n"
     ]
    },
    {
     "name": "stdout",
     "output_type": "stream",
     "text": [
      "pin create successfully\n"
     ]
    },
    {
     "name": "stdin",
     "output_type": "stream",
     "text": [
      "\n",
      "        Hi, how can I help you?\n",
      "        1. Press 1 to create pin \n",
      "        2. Press 2 to change pin\n",
      "        3. Press 3 to check balance\n",
      "        4. Press 4 to withdraw\n",
      "        5. Press anything else to exit\n",
      "         2\n",
      "enter the old pin 4556\n"
     ]
    },
    {
     "name": "stdout",
     "output_type": "stream",
     "text": [
      "nai krne de skte re  payega\n"
     ]
    },
    {
     "name": "stdin",
     "output_type": "stream",
     "text": [
      "\n",
      "        Hi, how can I help you?\n",
      "        1. Press 1 to create pin \n",
      "        2. Press 2 to change pin\n",
      "        3. Press 3 to check balance\n",
      "        4. Press 4 to withdraw\n",
      "        5. Press anything else to exit\n",
      "         2\n",
      "enter the old pin 1234\n",
      "enter new pin 2345\n"
     ]
    },
    {
     "name": "stdout",
     "output_type": "stream",
     "text": [
      "pin change successful\n"
     ]
    },
    {
     "name": "stdin",
     "output_type": "stream",
     "text": [
      "\n",
      "        Hi, how can I help you?\n",
      "        1. Press 1 to create pin \n",
      "        2. Press 2 to change pin\n",
      "        3. Press 3 to check balance\n",
      "        4. Press 4 to withdraw\n",
      "        5. Press anything else to exit\n",
      "         3\n",
      "enter your pin 2345\n"
     ]
    },
    {
     "name": "stdout",
     "output_type": "stream",
     "text": [
      "your balance is 12000\n"
     ]
    },
    {
     "name": "stdin",
     "output_type": "stream",
     "text": [
      "\n",
      "        Hi, how can I help you?\n",
      "        1. Press 1 to create pin \n",
      "        2. Press 2 to change pin\n",
      "        3. Press 3 to check balance\n",
      "        4. Press 4 to withdraw\n",
      "        5. Press anything else to exit\n",
      "         4\n",
      "enter the pin 2345\n",
      "enter the amount 2334\n"
     ]
    },
    {
     "name": "stdout",
     "output_type": "stream",
     "text": [
      "withdrawl successful balance is 9666\n"
     ]
    }
   ],
   "source": [
    "obj = Atm()"
   ]
  },
  {
   "cell_type": "code",
   "execution_count": null,
   "id": "d39661f3-0929-40ae-b0e3-54eee2e0fba4",
   "metadata": {},
   "outputs": [],
   "source": []
  }
 ],
 "metadata": {
  "kernelspec": {
   "display_name": "Python 3 (ipykernel)",
   "language": "python",
   "name": "python3"
  },
  "language_info": {
   "codemirror_mode": {
    "name": "ipython",
    "version": 3
   },
   "file_extension": ".py",
   "mimetype": "text/x-python",
   "name": "python",
   "nbconvert_exporter": "python",
   "pygments_lexer": "ipython3",
   "version": "3.9.13"
  }
 },
 "nbformat": 4,
 "nbformat_minor": 5
}
